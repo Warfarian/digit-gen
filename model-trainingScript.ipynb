{
  "nbformat": 4,
  "nbformat_minor": 0,
  "metadata": {
    "colab": {
      "provenance": [],
      "gpuType": "T4"
    },
    "kernelspec": {
      "name": "python3",
      "display_name": "Python 3"
    },
    "language_info": {
      "name": "python"
    },
    "accelerator": "GPU"
  },
  "cells": [
    {
      "cell_type": "code",
      "source": [
        "import torch\n",
        "import torch.nn as nn\n",
        "import torch.nn.functional as F\n",
        "import torch.optim as optim\n",
        "from torch.utils.data import DataLoader\n",
        "from torchvision import datasets, transforms\n",
        "import numpy as np\n",
        "import matplotlib.pyplot as plt\n",
        "from tqdm import tqdm\n",
        "\n",
        "# Set device\n",
        "device = torch.device('cuda' if torch.cuda.is_available() else 'cpu')\n",
        "print(f\"Using device: {device}\")\n",
        "\n",
        "# Hyperparameters\n",
        "BATCH_SIZE = 128\n",
        "LEARNING_RATE = 1e-3\n",
        "EPOCHS = 50  # Sufficient for good results on T4 GPU\n",
        "LATENT_DIM = 20\n",
        "INPUT_DIM = 784  # 28x28\n",
        "NUM_CLASSES = 10\n",
        "HIDDEN_DIM = 512  # Increased for better capacity\n",
        "\n",
        "class ConditionalVAE(nn.Module):\n",
        "    \"\"\"\n",
        "    Conditional Variational Autoencoder for digit-specific generation\n",
        "\n",
        "    The key insight: By concatenating one-hot encoded digit labels to both\n",
        "    the input (encoder) and latent code (decoder), we can control what digit\n",
        "    the model generates.\n",
        "    \"\"\"\n",
        "    def __init__(self, input_dim=784, hidden_dim=512, latent_dim=20, num_classes=10):\n",
        "        super(ConditionalVAE, self).__init__()\n",
        "\n",
        "        self.num_classes = num_classes\n",
        "        self.latent_dim = latent_dim\n",
        "\n",
        "        # Encoder: input + label -> latent parameters\n",
        "        # Input: [batch_size, input_dim + num_classes]\n",
        "        self.encoder = nn.Sequential(\n",
        "            nn.Linear(input_dim + num_classes, hidden_dim),\n",
        "            nn.ReLU(),\n",
        "            nn.Dropout(0.2),\n",
        "            nn.Linear(hidden_dim, hidden_dim),\n",
        "            nn.ReLU(),\n",
        "            nn.Dropout(0.2)\n",
        "        )\n",
        "\n",
        "        # Latent space parameters\n",
        "        self.fc_mu = nn.Linear(hidden_dim, latent_dim)\n",
        "        self.fc_logvar = nn.Linear(hidden_dim, latent_dim)\n",
        "\n",
        "        # Decoder: latent + label -> output\n",
        "        # Input: [batch_size, latent_dim + num_classes]\n",
        "        self.decoder = nn.Sequential(\n",
        "            nn.Linear(latent_dim + num_classes, hidden_dim),\n",
        "            nn.ReLU(),\n",
        "            nn.Dropout(0.2),\n",
        "            nn.Linear(hidden_dim, hidden_dim),\n",
        "            nn.ReLU(),\n",
        "            nn.Dropout(0.2),\n",
        "            nn.Linear(hidden_dim, input_dim),\n",
        "            nn.Sigmoid()  # Output pixel values in [0,1]\n",
        "        )\n",
        "\n",
        "    def encode(self, x, labels):\n",
        "        \"\"\"Encode input image + label to latent parameters\"\"\"\n",
        "        # Convert labels to one-hot encoding\n",
        "        labels_onehot = F.one_hot(labels, num_classes=self.num_classes).float()\n",
        "\n",
        "        # Concatenate image with label\n",
        "        x_labeled = torch.cat([x, labels_onehot], dim=1)\n",
        "\n",
        "        # Pass through encoder\n",
        "        h = self.encoder(x_labeled)\n",
        "        mu = self.fc_mu(h)\n",
        "        logvar = self.fc_logvar(h)\n",
        "        return mu, logvar\n",
        "\n",
        "    def reparameterize(self, mu, logvar):\n",
        "        \"\"\"Sample from latent distribution using reparameterization trick\"\"\"\n",
        "        std = torch.exp(0.5 * logvar)\n",
        "        eps = torch.randn_like(std)\n",
        "        return mu + eps * std\n",
        "\n",
        "    def decode(self, z, labels):\n",
        "        \"\"\"Decode latent code + label to output image\"\"\"\n",
        "        # Convert labels to one-hot encoding\n",
        "        labels_onehot = F.one_hot(labels, num_classes=self.num_classes).float()\n",
        "\n",
        "        # Concatenate latent code with label\n",
        "        z_labeled = torch.cat([z, labels_onehot], dim=1)\n",
        "\n",
        "        # Pass through decoder\n",
        "        return self.decoder(z_labeled)\n",
        "\n",
        "    def forward(self, x, labels):\n",
        "        \"\"\"Full forward pass: encode -> sample -> decode\"\"\"\n",
        "        mu, logvar = self.encode(x, labels)\n",
        "        z = self.reparameterize(mu, logvar)\n",
        "        x_recon = self.decode(z, labels)\n",
        "        return x_recon, mu, logvar\n",
        "\n",
        "def vae_loss_function(recon_x, x, mu, logvar, beta=1.0):\n",
        "    \"\"\"\n",
        "    VAE loss = Reconstruction Loss + KL Divergence Loss\n",
        "\n",
        "    Args:\n",
        "        recon_x: Reconstructed images\n",
        "        x: Original images\n",
        "        mu: Mean of latent distribution\n",
        "        logvar: Log variance of latent distribution\n",
        "        beta: Weight for KL term (beta-VAE)\n",
        "    \"\"\"\n",
        "    # Reconstruction loss (how well we reconstruct the input)\n",
        "    BCE = F.binary_cross_entropy(recon_x, x, reduction='sum')\n",
        "\n",
        "    # KL divergence loss (how close latent distribution is to standard normal)\n",
        "    KLD = -0.5 * torch.sum(1 + logvar - mu.pow(2) - logvar.exp())\n",
        "\n",
        "    return BCE + beta * KLD\n",
        "\n",
        "# Data loading and preprocessing\n",
        "transform = transforms.Compose([\n",
        "    transforms.ToTensor(),  # Convert to tensor and normalize to [0,1]\n",
        "])\n",
        "\n",
        "print(\"Loading MNIST dataset...\")\n",
        "train_dataset = datasets.MNIST('./data', train=True, download=True, transform=transform)\n",
        "train_loader = DataLoader(train_dataset, batch_size=BATCH_SIZE, shuffle=True)\n",
        "\n",
        "# Initialize model\n",
        "print(\"Initializing Conditional VAE...\")\n",
        "model = ConditionalVAE(\n",
        "    input_dim=INPUT_DIM,\n",
        "    hidden_dim=HIDDEN_DIM,\n",
        "    latent_dim=LATENT_DIM,\n",
        "    num_classes=NUM_CLASSES\n",
        ").to(device)\n",
        "\n",
        "optimizer = optim.Adam(model.parameters(), lr=LEARNING_RATE)\n",
        "\n",
        "# Training function\n",
        "def train_epoch(model, train_loader, optimizer, epoch):\n",
        "    \"\"\"Train for one epoch\"\"\"\n",
        "    model.train()\n",
        "    train_loss = 0\n",
        "\n",
        "    progress_bar = tqdm(train_loader, desc=f'Epoch {epoch:2d}')\n",
        "\n",
        "    for batch_idx, (data, labels) in enumerate(progress_bar):\n",
        "        # Move data to device\n",
        "        data = data.view(-1, INPUT_DIM).to(device)  # Flatten images\n",
        "        labels = labels.to(device)\n",
        "\n",
        "        # Forward pass\n",
        "        optimizer.zero_grad()\n",
        "        recon_data, mu, logvar = model(data, labels)\n",
        "\n",
        "        # Compute loss\n",
        "        loss = vae_loss_function(recon_data, data, mu, logvar)\n",
        "\n",
        "        # Backward pass\n",
        "        loss.backward()\n",
        "        optimizer.step()\n",
        "\n",
        "        train_loss += loss.item()\n",
        "\n",
        "        # Update progress bar\n",
        "        if batch_idx % 100 == 0:\n",
        "            progress_bar.set_postfix({\n",
        "                'Loss': f'{loss.item():.2f}',\n",
        "                'Avg': f'{train_loss/(batch_idx+1):.2f}'\n",
        "            })\n",
        "\n",
        "    avg_loss = train_loss / len(train_loader.dataset)\n",
        "    print(f'Epoch {epoch:2d} - Average Loss: {avg_loss:.4f}')\n",
        "    return avg_loss\n",
        "\n",
        "# Training loop\n",
        "print(\"Starting training...\")\n",
        "print(f\"Training for {EPOCHS} epochs on {device}\")\n",
        "print(\"-\" * 50)\n",
        "\n",
        "losses = []\n",
        "for epoch in range(1, EPOCHS + 1):\n",
        "    loss = train_epoch(model, train_loader, optimizer, epoch)\n",
        "    losses.append(loss)\n",
        "\n",
        "    # Save checkpoint every 10 epochs\n",
        "    if epoch % 10 == 0:\n",
        "        checkpoint = {\n",
        "            'epoch': epoch,\n",
        "            'model_state_dict': model.state_dict(),\n",
        "            'optimizer_state_dict': optimizer.state_dict(),\n",
        "            'losses': losses,\n",
        "            'model_config': {\n",
        "                'input_dim': INPUT_DIM,\n",
        "                'hidden_dim': HIDDEN_DIM,\n",
        "                'latent_dim': LATENT_DIM,\n",
        "                'num_classes': NUM_CLASSES\n",
        "            }\n",
        "        }\n",
        "        torch.save(checkpoint, f'cvae_checkpoint_epoch_{epoch}.pth')\n",
        "        print(f\"Checkpoint saved at epoch {epoch}\")\n",
        "\n",
        "# Save final model\n",
        "print(\"\\nTraining completed! Saving final model...\")\n",
        "final_checkpoint = {\n",
        "    'model_state_dict': model.state_dict(),\n",
        "    'model_config': {\n",
        "        'input_dim': INPUT_DIM,\n",
        "        'hidden_dim': HIDDEN_DIM,\n",
        "        'latent_dim': LATENT_DIM,\n",
        "        'num_classes': NUM_CLASSES\n",
        "    },\n",
        "    'losses': losses\n",
        "}\n",
        "torch.save(final_checkpoint, 'cvae_mnist_final.pth')\n",
        "print(\"Final model saved as 'cvae_mnist_final.pth'\")"
      ],
      "metadata": {
        "colab": {
          "base_uri": "https://localhost:8080/"
        },
        "id": "WcBohmE0F3AO",
        "outputId": "fb3ac27d-3d6e-4d59-eebf-1e992635b52b"
      },
      "execution_count": 1,
      "outputs": [
        {
          "output_type": "stream",
          "name": "stdout",
          "text": [
            "Using device: cuda\n",
            "Loading MNIST dataset...\n"
          ]
        },
        {
          "output_type": "stream",
          "name": "stderr",
          "text": [
            "100%|██████████| 9.91M/9.91M [00:00<00:00, 16.6MB/s]\n",
            "100%|██████████| 28.9k/28.9k [00:00<00:00, 493kB/s]\n",
            "100%|██████████| 1.65M/1.65M [00:00<00:00, 4.60MB/s]\n",
            "100%|██████████| 4.54k/4.54k [00:00<00:00, 6.86MB/s]\n"
          ]
        },
        {
          "output_type": "stream",
          "name": "stdout",
          "text": [
            "Initializing Conditional VAE...\n",
            "Starting training...\n",
            "Training for 50 epochs on cuda\n",
            "--------------------------------------------------\n"
          ]
        },
        {
          "output_type": "stream",
          "name": "stderr",
          "text": [
            "Epoch  1: 100%|██████████| 469/469 [00:08<00:00, 55.39it/s, Loss=19096.36, Avg=22460.77]\n"
          ]
        },
        {
          "output_type": "stream",
          "name": "stdout",
          "text": [
            "Epoch  1 - Average Loss: 170.6063\n"
          ]
        },
        {
          "output_type": "stream",
          "name": "stderr",
          "text": [
            "Epoch  2: 100%|██████████| 469/469 [00:07<00:00, 66.00it/s, Loss=16379.05, Avg=17245.46]\n"
          ]
        },
        {
          "output_type": "stream",
          "name": "stdout",
          "text": [
            "Epoch  2 - Average Loss: 133.9597\n"
          ]
        },
        {
          "output_type": "stream",
          "name": "stderr",
          "text": [
            "Epoch  3: 100%|██████████| 469/469 [00:08<00:00, 56.41it/s, Loss=15242.00, Avg=16157.01]\n"
          ]
        },
        {
          "output_type": "stream",
          "name": "stdout",
          "text": [
            "Epoch  3 - Average Loss: 125.7015\n"
          ]
        },
        {
          "output_type": "stream",
          "name": "stderr",
          "text": [
            "Epoch  4: 100%|██████████| 469/469 [00:07<00:00, 60.80it/s, Loss=14860.12, Avg=15545.21]\n"
          ]
        },
        {
          "output_type": "stream",
          "name": "stdout",
          "text": [
            "Epoch  4 - Average Loss: 121.2117\n"
          ]
        },
        {
          "output_type": "stream",
          "name": "stderr",
          "text": [
            "Epoch  5: 100%|██████████| 469/469 [00:07<00:00, 65.11it/s, Loss=14862.19, Avg=15208.40]\n"
          ]
        },
        {
          "output_type": "stream",
          "name": "stdout",
          "text": [
            "Epoch  5 - Average Loss: 118.7839\n"
          ]
        },
        {
          "output_type": "stream",
          "name": "stderr",
          "text": [
            "Epoch  6: 100%|██████████| 469/469 [00:07<00:00, 60.24it/s, Loss=15166.44, Avg=15004.51]\n"
          ]
        },
        {
          "output_type": "stream",
          "name": "stdout",
          "text": [
            "Epoch  6 - Average Loss: 117.1873\n"
          ]
        },
        {
          "output_type": "stream",
          "name": "stderr",
          "text": [
            "Epoch  7: 100%|██████████| 469/469 [00:09<00:00, 51.74it/s, Loss=14915.89, Avg=14863.30]\n"
          ]
        },
        {
          "output_type": "stream",
          "name": "stdout",
          "text": [
            "Epoch  7 - Average Loss: 116.0763\n"
          ]
        },
        {
          "output_type": "stream",
          "name": "stderr",
          "text": [
            "Epoch  8: 100%|██████████| 469/469 [00:07<00:00, 66.27it/s, Loss=14625.07, Avg=14752.06]\n"
          ]
        },
        {
          "output_type": "stream",
          "name": "stdout",
          "text": [
            "Epoch  8 - Average Loss: 115.1918\n"
          ]
        },
        {
          "output_type": "stream",
          "name": "stderr",
          "text": [
            "Epoch  9: 100%|██████████| 469/469 [00:07<00:00, 60.81it/s, Loss=14913.27, Avg=14665.24]\n"
          ]
        },
        {
          "output_type": "stream",
          "name": "stdout",
          "text": [
            "Epoch  9 - Average Loss: 114.5122\n"
          ]
        },
        {
          "output_type": "stream",
          "name": "stderr",
          "text": [
            "Epoch 10: 100%|██████████| 469/469 [00:07<00:00, 62.95it/s, Loss=14953.94, Avg=14577.60]\n"
          ]
        },
        {
          "output_type": "stream",
          "name": "stdout",
          "text": [
            "Epoch 10 - Average Loss: 113.9569\n",
            "Checkpoint saved at epoch 10\n"
          ]
        },
        {
          "output_type": "stream",
          "name": "stderr",
          "text": [
            "Epoch 11: 100%|██████████| 469/469 [00:07<00:00, 62.47it/s, Loss=13849.90, Avg=14517.04]\n"
          ]
        },
        {
          "output_type": "stream",
          "name": "stdout",
          "text": [
            "Epoch 11 - Average Loss: 113.4181\n"
          ]
        },
        {
          "output_type": "stream",
          "name": "stderr",
          "text": [
            "Epoch 12: 100%|██████████| 469/469 [00:07<00:00, 61.07it/s, Loss=14157.24, Avg=14474.78]\n"
          ]
        },
        {
          "output_type": "stream",
          "name": "stdout",
          "text": [
            "Epoch 12 - Average Loss: 113.1115\n"
          ]
        },
        {
          "output_type": "stream",
          "name": "stderr",
          "text": [
            "Epoch 13: 100%|██████████| 469/469 [00:07<00:00, 65.98it/s, Loss=14215.76, Avg=14431.53]\n"
          ]
        },
        {
          "output_type": "stream",
          "name": "stdout",
          "text": [
            "Epoch 13 - Average Loss: 112.6936\n"
          ]
        },
        {
          "output_type": "stream",
          "name": "stderr",
          "text": [
            "Epoch 14: 100%|██████████| 469/469 [00:07<00:00, 60.23it/s, Loss=14157.49, Avg=14389.68]\n"
          ]
        },
        {
          "output_type": "stream",
          "name": "stdout",
          "text": [
            "Epoch 14 - Average Loss: 112.4704\n"
          ]
        },
        {
          "output_type": "stream",
          "name": "stderr",
          "text": [
            "Epoch 15: 100%|██████████| 469/469 [00:07<00:00, 60.65it/s, Loss=14028.03, Avg=14352.15]\n"
          ]
        },
        {
          "output_type": "stream",
          "name": "stdout",
          "text": [
            "Epoch 15 - Average Loss: 112.1077\n"
          ]
        },
        {
          "output_type": "stream",
          "name": "stderr",
          "text": [
            "Epoch 16: 100%|██████████| 469/469 [00:07<00:00, 62.46it/s, Loss=13909.51, Avg=14305.38]\n"
          ]
        },
        {
          "output_type": "stream",
          "name": "stdout",
          "text": [
            "Epoch 16 - Average Loss: 111.8687\n"
          ]
        },
        {
          "output_type": "stream",
          "name": "stderr",
          "text": [
            "Epoch 17: 100%|██████████| 469/469 [00:07<00:00, 60.11it/s, Loss=14446.10, Avg=14293.60]\n"
          ]
        },
        {
          "output_type": "stream",
          "name": "stdout",
          "text": [
            "Epoch 17 - Average Loss: 111.6383\n"
          ]
        },
        {
          "output_type": "stream",
          "name": "stderr",
          "text": [
            "Epoch 18: 100%|██████████| 469/469 [00:07<00:00, 60.51it/s, Loss=13934.79, Avg=14263.19]\n"
          ]
        },
        {
          "output_type": "stream",
          "name": "stdout",
          "text": [
            "Epoch 18 - Average Loss: 111.4193\n"
          ]
        },
        {
          "output_type": "stream",
          "name": "stderr",
          "text": [
            "Epoch 19: 100%|██████████| 469/469 [00:07<00:00, 65.40it/s, Loss=14014.51, Avg=14239.38]\n"
          ]
        },
        {
          "output_type": "stream",
          "name": "stdout",
          "text": [
            "Epoch 19 - Average Loss: 111.2311\n"
          ]
        },
        {
          "output_type": "stream",
          "name": "stderr",
          "text": [
            "Epoch 20: 100%|██████████| 469/469 [00:07<00:00, 60.72it/s, Loss=14491.99, Avg=14217.50]\n"
          ]
        },
        {
          "output_type": "stream",
          "name": "stdout",
          "text": [
            "Epoch 20 - Average Loss: 111.0615\n",
            "Checkpoint saved at epoch 20\n"
          ]
        },
        {
          "output_type": "stream",
          "name": "stderr",
          "text": [
            "Epoch 21: 100%|██████████| 469/469 [00:07<00:00, 65.56it/s, Loss=13695.75, Avg=14178.62]\n"
          ]
        },
        {
          "output_type": "stream",
          "name": "stdout",
          "text": [
            "Epoch 21 - Average Loss: 110.8505\n"
          ]
        },
        {
          "output_type": "stream",
          "name": "stderr",
          "text": [
            "Epoch 22: 100%|██████████| 469/469 [00:07<00:00, 60.97it/s, Loss=13873.71, Avg=14161.34]\n"
          ]
        },
        {
          "output_type": "stream",
          "name": "stdout",
          "text": [
            "Epoch 22 - Average Loss: 110.7395\n"
          ]
        },
        {
          "output_type": "stream",
          "name": "stderr",
          "text": [
            "Epoch 23: 100%|██████████| 469/469 [00:07<00:00, 60.76it/s, Loss=14721.60, Avg=14163.10]\n"
          ]
        },
        {
          "output_type": "stream",
          "name": "stdout",
          "text": [
            "Epoch 23 - Average Loss: 110.6508\n"
          ]
        },
        {
          "output_type": "stream",
          "name": "stderr",
          "text": [
            "Epoch 24: 100%|██████████| 469/469 [00:07<00:00, 66.28it/s, Loss=14129.43, Avg=14154.07]\n"
          ]
        },
        {
          "output_type": "stream",
          "name": "stdout",
          "text": [
            "Epoch 24 - Average Loss: 110.5385\n"
          ]
        },
        {
          "output_type": "stream",
          "name": "stderr",
          "text": [
            "Epoch 25: 100%|██████████| 469/469 [00:07<00:00, 61.19it/s, Loss=14303.79, Avg=14122.81]\n"
          ]
        },
        {
          "output_type": "stream",
          "name": "stdout",
          "text": [
            "Epoch 25 - Average Loss: 110.3579\n"
          ]
        },
        {
          "output_type": "stream",
          "name": "stderr",
          "text": [
            "Epoch 26: 100%|██████████| 469/469 [00:07<00:00, 62.66it/s, Loss=13333.90, Avg=14106.47]\n"
          ]
        },
        {
          "output_type": "stream",
          "name": "stdout",
          "text": [
            "Epoch 26 - Average Loss: 110.2413\n"
          ]
        },
        {
          "output_type": "stream",
          "name": "stderr",
          "text": [
            "Epoch 27: 100%|██████████| 469/469 [00:07<00:00, 64.48it/s, Loss=13853.84, Avg=14093.79]\n"
          ]
        },
        {
          "output_type": "stream",
          "name": "stdout",
          "text": [
            "Epoch 27 - Average Loss: 110.1710\n"
          ]
        },
        {
          "output_type": "stream",
          "name": "stderr",
          "text": [
            "Epoch 28: 100%|██████████| 469/469 [00:07<00:00, 60.45it/s, Loss=14384.09, Avg=14075.38]\n"
          ]
        },
        {
          "output_type": "stream",
          "name": "stdout",
          "text": [
            "Epoch 28 - Average Loss: 110.0149\n"
          ]
        },
        {
          "output_type": "stream",
          "name": "stderr",
          "text": [
            "Epoch 29: 100%|██████████| 469/469 [00:07<00:00, 66.33it/s, Loss=14075.94, Avg=14077.45]\n"
          ]
        },
        {
          "output_type": "stream",
          "name": "stdout",
          "text": [
            "Epoch 29 - Average Loss: 109.9637\n"
          ]
        },
        {
          "output_type": "stream",
          "name": "stderr",
          "text": [
            "Epoch 30: 100%|██████████| 469/469 [00:07<00:00, 61.20it/s, Loss=13746.99, Avg=14054.15]\n"
          ]
        },
        {
          "output_type": "stream",
          "name": "stdout",
          "text": [
            "Epoch 30 - Average Loss: 109.8498\n",
            "Checkpoint saved at epoch 30\n"
          ]
        },
        {
          "output_type": "stream",
          "name": "stderr",
          "text": [
            "Epoch 31: 100%|██████████| 469/469 [00:07<00:00, 60.93it/s, Loss=14235.47, Avg=14061.96]\n"
          ]
        },
        {
          "output_type": "stream",
          "name": "stdout",
          "text": [
            "Epoch 31 - Average Loss: 109.7868\n"
          ]
        },
        {
          "output_type": "stream",
          "name": "stderr",
          "text": [
            "Epoch 32: 100%|██████████| 469/469 [00:07<00:00, 66.27it/s, Loss=13945.38, Avg=14027.30]\n"
          ]
        },
        {
          "output_type": "stream",
          "name": "stdout",
          "text": [
            "Epoch 32 - Average Loss: 109.6566\n"
          ]
        },
        {
          "output_type": "stream",
          "name": "stderr",
          "text": [
            "Epoch 33: 100%|██████████| 469/469 [00:07<00:00, 60.87it/s, Loss=14778.22, Avg=14038.48]\n"
          ]
        },
        {
          "output_type": "stream",
          "name": "stdout",
          "text": [
            "Epoch 33 - Average Loss: 109.6965\n"
          ]
        },
        {
          "output_type": "stream",
          "name": "stderr",
          "text": [
            "Epoch 34: 100%|██████████| 469/469 [00:07<00:00, 63.86it/s, Loss=14143.81, Avg=14038.77]\n"
          ]
        },
        {
          "output_type": "stream",
          "name": "stdout",
          "text": [
            "Epoch 34 - Average Loss: 109.5813\n"
          ]
        },
        {
          "output_type": "stream",
          "name": "stderr",
          "text": [
            "Epoch 35: 100%|██████████| 469/469 [00:07<00:00, 63.35it/s, Loss=14667.62, Avg=13995.57]\n"
          ]
        },
        {
          "output_type": "stream",
          "name": "stdout",
          "text": [
            "Epoch 35 - Average Loss: 109.4217\n"
          ]
        },
        {
          "output_type": "stream",
          "name": "stderr",
          "text": [
            "Epoch 36: 100%|██████████| 469/469 [00:07<00:00, 60.91it/s, Loss=14092.94, Avg=14003.85]\n"
          ]
        },
        {
          "output_type": "stream",
          "name": "stdout",
          "text": [
            "Epoch 36 - Average Loss: 109.3985\n"
          ]
        },
        {
          "output_type": "stream",
          "name": "stderr",
          "text": [
            "Epoch 37: 100%|██████████| 469/469 [00:07<00:00, 65.97it/s, Loss=13655.79, Avg=13992.70]\n"
          ]
        },
        {
          "output_type": "stream",
          "name": "stdout",
          "text": [
            "Epoch 37 - Average Loss: 109.3966\n"
          ]
        },
        {
          "output_type": "stream",
          "name": "stderr",
          "text": [
            "Epoch 38: 100%|██████████| 469/469 [00:07<00:00, 61.19it/s, Loss=14216.18, Avg=13984.94]\n"
          ]
        },
        {
          "output_type": "stream",
          "name": "stdout",
          "text": [
            "Epoch 38 - Average Loss: 109.2529\n"
          ]
        },
        {
          "output_type": "stream",
          "name": "stderr",
          "text": [
            "Epoch 39: 100%|██████████| 469/469 [00:07<00:00, 61.11it/s, Loss=14421.25, Avg=13975.68]\n"
          ]
        },
        {
          "output_type": "stream",
          "name": "stdout",
          "text": [
            "Epoch 39 - Average Loss: 109.2558\n"
          ]
        },
        {
          "output_type": "stream",
          "name": "stderr",
          "text": [
            "Epoch 40: 100%|██████████| 469/469 [00:07<00:00, 66.00it/s, Loss=14593.51, Avg=13967.07]\n"
          ]
        },
        {
          "output_type": "stream",
          "name": "stdout",
          "text": [
            "Epoch 40 - Average Loss: 109.1504\n",
            "Checkpoint saved at epoch 40\n"
          ]
        },
        {
          "output_type": "stream",
          "name": "stderr",
          "text": [
            "Epoch 41: 100%|██████████| 469/469 [00:07<00:00, 60.55it/s, Loss=14331.60, Avg=13965.30]\n"
          ]
        },
        {
          "output_type": "stream",
          "name": "stdout",
          "text": [
            "Epoch 41 - Average Loss: 109.1040\n"
          ]
        },
        {
          "output_type": "stream",
          "name": "stderr",
          "text": [
            "Epoch 42: 100%|██████████| 469/469 [00:07<00:00, 63.81it/s, Loss=13706.85, Avg=13941.77]\n"
          ]
        },
        {
          "output_type": "stream",
          "name": "stdout",
          "text": [
            "Epoch 42 - Average Loss: 108.9957\n"
          ]
        },
        {
          "output_type": "stream",
          "name": "stderr",
          "text": [
            "Epoch 43: 100%|██████████| 469/469 [00:07<00:00, 62.44it/s, Loss=14176.80, Avg=13966.65]\n"
          ]
        },
        {
          "output_type": "stream",
          "name": "stdout",
          "text": [
            "Epoch 43 - Average Loss: 109.0399\n"
          ]
        },
        {
          "output_type": "stream",
          "name": "stderr",
          "text": [
            "Epoch 44: 100%|██████████| 469/469 [00:07<00:00, 61.11it/s, Loss=14062.08, Avg=13924.86]\n"
          ]
        },
        {
          "output_type": "stream",
          "name": "stdout",
          "text": [
            "Epoch 44 - Average Loss: 108.8658\n"
          ]
        },
        {
          "output_type": "stream",
          "name": "stderr",
          "text": [
            "Epoch 45: 100%|██████████| 469/469 [00:07<00:00, 65.90it/s, Loss=14444.50, Avg=13935.23]\n"
          ]
        },
        {
          "output_type": "stream",
          "name": "stdout",
          "text": [
            "Epoch 45 - Average Loss: 108.8842\n"
          ]
        },
        {
          "output_type": "stream",
          "name": "stderr",
          "text": [
            "Epoch 46: 100%|██████████| 469/469 [00:07<00:00, 60.64it/s, Loss=13968.31, Avg=13921.71]\n"
          ]
        },
        {
          "output_type": "stream",
          "name": "stdout",
          "text": [
            "Epoch 46 - Average Loss: 108.9062\n"
          ]
        },
        {
          "output_type": "stream",
          "name": "stderr",
          "text": [
            "Epoch 47: 100%|██████████| 469/469 [00:07<00:00, 61.06it/s, Loss=13878.62, Avg=13927.52]\n"
          ]
        },
        {
          "output_type": "stream",
          "name": "stdout",
          "text": [
            "Epoch 47 - Average Loss: 108.8392\n"
          ]
        },
        {
          "output_type": "stream",
          "name": "stderr",
          "text": [
            "Epoch 48: 100%|██████████| 469/469 [00:07<00:00, 66.22it/s, Loss=13498.37, Avg=13910.43]\n"
          ]
        },
        {
          "output_type": "stream",
          "name": "stdout",
          "text": [
            "Epoch 48 - Average Loss: 108.7132\n"
          ]
        },
        {
          "output_type": "stream",
          "name": "stderr",
          "text": [
            "Epoch 49: 100%|██████████| 469/469 [00:07<00:00, 60.82it/s, Loss=14372.42, Avg=13912.52]\n"
          ]
        },
        {
          "output_type": "stream",
          "name": "stdout",
          "text": [
            "Epoch 49 - Average Loss: 108.6789\n"
          ]
        },
        {
          "output_type": "stream",
          "name": "stderr",
          "text": [
            "Epoch 50: 100%|██████████| 469/469 [00:07<00:00, 64.88it/s, Loss=13758.01, Avg=13926.86]"
          ]
        },
        {
          "output_type": "stream",
          "name": "stdout",
          "text": [
            "Epoch 50 - Average Loss: 108.7272\n",
            "Checkpoint saved at epoch 50\n",
            "\n",
            "Training completed! Saving final model...\n",
            "Final model saved as 'cvae_mnist_final.pth'\n"
          ]
        },
        {
          "output_type": "stream",
          "name": "stderr",
          "text": [
            "\n"
          ]
        }
      ]
    },
    {
      "cell_type": "code",
      "source": [
        "def generate_specific_digit(model, digit_class, num_samples=5, device='cpu'):\n",
        "    \"\"\"\n",
        "    Generate specific digits using the trained Conditional VAE\n",
        "\n",
        "    Args:\n",
        "        model: Trained ConditionalVAE model\n",
        "        digit_class: Which digit to generate (0-9)\n",
        "        num_samples: How many samples to generate\n",
        "        device: Device to run on\n",
        "\n",
        "    Returns:\n",
        "        Generated images as numpy array [num_samples, 28, 28]\n",
        "    \"\"\"\n",
        "    model.eval()\n",
        "    with torch.no_grad():\n",
        "        # Create labels for the desired digit (this is how we control generation!)\n",
        "        labels = torch.full((num_samples,), digit_class, dtype=torch.long).to(device)\n",
        "\n",
        "        # Sample random latent codes\n",
        "        z = torch.randn(num_samples, model.latent_dim).to(device)\n",
        "\n",
        "        # Generate images conditioned on the specific digit label\n",
        "        generated = model.decode(z, labels)\n",
        "\n",
        "        # Reshape to image format and move to CPU\n",
        "        generated = generated.view(-1, 28, 28).cpu().numpy()\n",
        "\n",
        "        # Ensure values are in [0, 1] range\n",
        "        generated = np.clip(generated, 0, 1)\n",
        "\n",
        "        return generated\n",
        "\n",
        "# Test the digit generation for all digits\n",
        "print(\"\\nTesting digit generation...\")\n",
        "model.eval()\n",
        "\n",
        "# Generate samples for each digit (0-9)\n",
        "fig, axes = plt.subplots(10, 5, figsize=(15, 30))\n",
        "fig.suptitle('Generated Digits by Conditional VAE\\n(Each row shows 5 samples of the same digit)',\n",
        "             fontsize=16, fontweight='bold')\n",
        "\n",
        "for digit in range(10):\n",
        "    print(f\"Generating samples for digit {digit}...\")\n",
        "    generated_samples = generate_specific_digit(model, digit, num_samples=5, device=device)\n",
        "\n",
        "    for sample_idx in range(5):\n",
        "        row, col = digit, sample_idx\n",
        "        axes[row, col].imshow(generated_samples[sample_idx], cmap='gray', vmin=0, vmax=1)\n",
        "        axes[row, col].axis('off')\n",
        "\n",
        "        if sample_idx == 0:  # Label only the first column\n",
        "            axes[row, col].set_ylabel(f'Digit {digit}', fontsize=14, fontweight='bold')\n",
        "\n",
        "        axes[row, col].set_title(f'Sample {sample_idx + 1}', fontsize=10)\n",
        "\n",
        "plt.tight_layout()\n",
        "plt.savefig('generated_digits_test.png', dpi=150, bbox_inches='tight')\n",
        "plt.show()\n",
        "\n",
        "# Plot training loss curve\n",
        "plt.figure(figsize=(10, 6))\n",
        "plt.plot(range(1, len(losses) + 1), losses, 'b-', linewidth=2)\n",
        "plt.title('Training Loss Over Time', fontsize=14, fontweight='bold')\n",
        "plt.xlabel('Epoch', fontsize=12)\n",
        "plt.ylabel('Loss', fontsize=12)\n",
        "plt.grid(True, alpha=0.3)\n",
        "plt.savefig('training_loss_curve.png', dpi=150, bbox_inches='tight')\n",
        "plt.show()\n",
        "\n",
        "print(\"\\n\" + \"=\"*50)\n",
        "print(\"TRAINING SUMMARY\")\n",
        "print(\"=\"*50)\n",
        "print(f\"✓ Model trained for {EPOCHS} epochs\")\n",
        "print(f\"✓ Final loss: {losses[-1]:.4f}\")\n",
        "print(f\"✓ Model saved as: cvae_mnist_final.pth\")\n",
        "print(f\"✓ Device used: {device}\")\n",
        "print(f\"✓ Can generate specific digits 0-9\")\n",
        "print(\"✓ Ready for web app deployment!\")\n",
        "print(\"=\"*50)\n",
        "\n",
        "# Save generation function for web app\n",
        "generation_code = f'''\n",
        "# Generation function for web app\n",
        "import torch\n",
        "import torch.nn as nn\n",
        "import torch.nn.functional as F\n",
        "import numpy as np\n",
        "\n",
        "class ConditionalVAE(nn.Module):\n",
        "    def __init__(self, input_dim=784, hidden_dim=512, latent_dim=20, num_classes=10):\n",
        "        super(ConditionalVAE, self).__init__()\n",
        "\n",
        "        self.num_classes = num_classes\n",
        "        self.latent_dim = latent_dim\n",
        "\n",
        "        self.encoder = nn.Sequential(\n",
        "            nn.Linear(input_dim + num_classes, hidden_dim),\n",
        "            nn.ReLU(),\n",
        "            nn.Dropout(0.2),\n",
        "            nn.Linear(hidden_dim, hidden_dim),\n",
        "            nn.ReLU(),\n",
        "            nn.Dropout(0.2)\n",
        "        )\n",
        "\n",
        "        self.fc_mu = nn.Linear(hidden_dim, latent_dim)\n",
        "        self.fc_logvar = nn.Linear(hidden_dim, latent_dim)\n",
        "\n",
        "        self.decoder = nn.Sequential(\n",
        "            nn.Linear(latent_dim + num_classes, hidden_dim),\n",
        "            nn.ReLU(),\n",
        "            nn.Dropout(0.2),\n",
        "            nn.Linear(hidden_dim, hidden_dim),\n",
        "            nn.ReLU(),\n",
        "            nn.Dropout(0.2),\n",
        "            nn.Linear(hidden_dim, input_dim),\n",
        "            nn.Sigmoid()\n",
        "        )\n",
        "\n",
        "    def decode(self, z, labels):\n",
        "        labels_onehot = F.one_hot(labels, num_classes=self.num_classes).float()\n",
        "        z_labeled = torch.cat([z, labels_onehot], dim=1)\n",
        "        return self.decoder(z_labeled)\n",
        "\n",
        "def load_model_and_generate(digit_class, num_samples=5):\n",
        "    device = torch.device('cuda' if torch.cuda.is_available() else 'cpu')\n",
        "\n",
        "    # Load model\n",
        "    model = ConditionalVAE(hidden_dim=512, latent_dim=20).to(device)\n",
        "    checkpoint = torch.load('cvae_mnist_final.pth', map_location=device)\n",
        "    model.load_state_dict(checkpoint['model_state_dict'])\n",
        "    model.eval()\n",
        "\n",
        "    # Generate specific digit\n",
        "    with torch.no_grad():\n",
        "        labels = torch.full((num_samples,), digit_class, dtype=torch.long).to(device)\n",
        "        z = torch.randn(num_samples, 20).to(device)\n",
        "        generated = model.decode(z, labels)\n",
        "        generated = generated.view(-1, 28, 28).cpu().numpy()\n",
        "        return np.clip(generated, 0, 1)\n",
        "'''\n",
        "\n",
        "with open('model_utils.py', 'w') as f:\n",
        "    f.write(generation_code)\n",
        "\n",
        "print(\"✓ Model utilities saved for web app integration\")"
      ],
      "metadata": {
        "colab": {
          "base_uri": "https://localhost:8080/",
          "height": 1000
        },
        "id": "GwLxfKVkHiBA",
        "outputId": "908b0871-8f7b-47bb-b1d4-9e46c39e927b"
      },
      "execution_count": 2,
      "outputs": [
        {
          "output_type": "stream",
          "name": "stdout",
          "text": [
            "\n",
            "Testing digit generation...\n",
            "Generating samples for digit 0...\n",
            "Generating samples for digit 1...\n",
            "Generating samples for digit 2...\n",
            "Generating samples for digit 3...\n",
            "Generating samples for digit 4...\n",
            "Generating samples for digit 5...\n",
            "Generating samples for digit 6...\n",
            "Generating samples for digit 7...\n",
            "Generating samples for digit 8...\n",
            "Generating samples for digit 9...\n"
          ]
        },
        {
          "output_type": "display_data",
          "data": {
            "text/plain": [
              "<Figure size 1500x3000 with 50 Axes>"
            ],
            "image/png": "[encoded data removed]"
          },
          "metadata": {}
        },
        {
          "output_type": "display_data",
          "data": {
            "text/plain": [
              "<Figure size 1000x600 with 1 Axes>"
            ],
            "image/png": "[encoded data removed]"
          },
          "metadata": {}
        },
        {
          "output_type": "stream",
          "name": "stdout",
          "text": [
            "\n",
            "==================================================\n",
            "TRAINING SUMMARY\n",
            "==================================================\n",
            "✓ Model trained for 50 epochs\n",
            "✓ Final loss: 108.7272\n",
            "✓ Model saved as: cvae_mnist_final.pth\n",
            "✓ Device used: cuda\n",
            "✓ Can generate specific digits 0-9\n",
            "✓ Ready for web app deployment!\n",
            "==================================================\n",
            "✓ Model utilities saved for web app integration\n"
          ]
        }
      ]
    }
  ]
}